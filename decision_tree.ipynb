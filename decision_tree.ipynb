{
 "cells": [
  {
   "cell_type": "code",
   "execution_count": 1,
   "metadata": {},
   "outputs": [],
   "source": [
    "# This function checks the quality of split by calcultaing the gini index\n",
    "def gini_index(groups, classes):\n",
    "    # Count all samples of all the groups\n",
    "    samples = float(sum([len(group) for group in groups]))\n",
    "    # Initialize the gini value to 0.0\n",
    "    gini = 0.0\n",
    "    for group in groups:\n",
    "        #Take size of every group \n",
    "        size = float(len(group))\n",
    "        # Avoid divide by zero if size is zero\n",
    "        if size == 0: \n",
    "            continue\n",
    "        score = 0.0\n",
    "        #find out proportion of the class in group\n",
    "        for class_val in classes:\n",
    "            proportion = [row[-1] for row in group].count(class_val)/size\n",
    "            #print(proportion)\n",
    "            score += proportion*proportion\n",
    "        #Update the gini score\n",
    "        gini += (1-score)*size/samples\n",
    "    return gini\n",
    "# Validating the function\n",
    "#print(gini_index([[[1, 1], [1, 0]], [[1, 1], [1, 0]]], [0, 1]))\n",
    "#print(gini_index([[[1, 0], [1, 0]], [[1, 1], [1, 1]]], [0, 1]))"
   ]
  },
  {
   "cell_type": "code",
   "execution_count": 2,
   "metadata": {},
   "outputs": [],
   "source": [
    "# This function splts the dataset into two groups based on given parameters\n",
    "# Such as index , value\n",
    "def test_split(index, value, dataset):\n",
    "    left, right = list(), list()\n",
    "    for row in dataset:\n",
    "        if row[index]<value:\n",
    "            left.append(row)\n",
    "        else: \n",
    "            right.append(row)\n",
    "    return left, right"
   ]
  },
  {
   "cell_type": "code",
   "execution_count": 39,
   "metadata": {},
   "outputs": [
    {
     "name": "stdout",
     "output_type": "stream",
     "text": [
      "The index and value  of the attribute we get the best split:  0 6.642287351\n"
     ]
    }
   ],
   "source": [
    "# This function find out the point of split by hit and trail method , cheking all possible\n",
    "#combinations over the dataset\n",
    "def get_split(dataset):\n",
    "    class_values = list(set(row[-1] for row in dataset))\n",
    "    #print(class_values)\n",
    "    b_index, b_value, b_score, groups = 999, 999, 999, None\n",
    "    for index in range(len(class_values)):\n",
    "        for row in dataset:\n",
    "            groups = test_split(index, row[index], dataset)\n",
    "            gini = gini_index(groups, class_values)\n",
    "            #print(index, gini)\n",
    "            if gini<b_score:\n",
    "                b_index, b_value, b_score, b_groups = index, row[index], gini, groups\n",
    "    return {'index': b_index, 'value': b_value, 'groups': b_groups }\n",
    "dataset = [[2.771244718,1.784783929,0],\n",
    "\t[1.728571309,1.169761413,0],\n",
    "\t[3.678319846,2.81281357,0],\n",
    "\t[3.961043357,2.61995032,0],\n",
    "\t[2.999208922,2.209014212,0],\n",
    "\t[7.497545867,3.162953546,1],\n",
    "\t[9.00220326,3.339047188,1],\n",
    "\t[7.444542326,0.476683375,1],\n",
    "\t[10.12493903,3.234550982,1],\n",
    "\t[6.642287351,3.319983761,1]]\n",
    "split = get_split(dataset)\n",
    "print('The index and value  of the attribute we get the best split: ', split['index'], split['value'])"
   ]
  },
  {
   "cell_type": "markdown",
   "metadata": {},
   "source": [
    "Terminal node :\n",
    "   decide when to stop growing tree.\n",
    "   Max tree depth:\n",
    "       if tree has reached to the max depth from the root, then we have to stop further spliting.\n",
    "       \n",
    "   Min Node recordes: \n",
    "       if we have min records for spliting the we have to stop spliting the node.\n",
    "       \n",
    "   All belong to same Class:\n",
    "       If all the rows belong to same class then we also have to stop the division.\n",
    "   "
   ]
  },
  {
   "cell_type": "code",
   "execution_count": 4,
   "metadata": {},
   "outputs": [],
   "source": [
    "# Specifies the class to terminal node further used for classification.\n",
    "def to_terminal(group):\n",
    "    outcomes = [row[-1] for row in group]\n",
    "    return max(set(outcomes), key = outcomes.count)\n"
   ]
  },
  {
   "cell_type": "code",
   "execution_count": 42,
   "metadata": {},
   "outputs": [],
   "source": [
    "def split(node, max_depth, min_size, depth):\n",
    "    left, right = node['groups']\n",
    "    del(node['groups'])\n",
    "    # check for null left or right node\n",
    "    if not left or not right:\n",
    "        node['left'] = node['right'] = to_terminal(left + right)\n",
    "        return\n",
    "    # check for max depth\n",
    "    if depth >= max_depth:\n",
    "        node['left'], node['right'] = to_terminal(left), to_terminal(right)\n",
    "        return\n",
    "    #process left child\n",
    "    if len(left)<= min_size:\n",
    "        node['left'] = to_terminal(left)\n",
    "    else:\n",
    "        node['left'] = get_split(left)\n",
    "        split(node['left'], max_depth, min_size, depth+1)\n",
    "    #process right child\n",
    "    if len(right)<= min_size:\n",
    "        node['right'] = to_terminal(right)\n",
    "    else:\n",
    "        node['right'] = get_split(right)\n",
    "        split(node['right'], max_depth, min_size, depth+1)"
   ]
  },
  {
   "cell_type": "code",
   "execution_count": 43,
   "metadata": {},
   "outputs": [],
   "source": [
    "def build_tree(train_data, max_depth, min_size):\n",
    "    root = get_split(train_data)\n",
    "    split(root, max_depth, min_size, 1)\n",
    "    return root"
   ]
  },
  {
   "cell_type": "code",
   "execution_count": 8,
   "metadata": {},
   "outputs": [
    {
     "name": "stdout",
     "output_type": "stream",
     "text": [
      "[0, 1]\n",
      "0 0.4444444444444445\n",
      "0 0.5\n",
      "0 0.2857142857142857\n",
      "0 0.1666666666666666\n",
      "0 0.375\n",
      "0 0.2857142857142857\n",
      "0 0.375\n",
      "0 0.1666666666666666\n",
      "0 0.4444444444444445\n",
      "0 0.0\n",
      "1 0.5\n",
      "1 0.4444444444444445\n",
      "1 0.31999999999999984\n",
      "1 0.41666666666666663\n",
      "1 0.4761904761904763\n",
      "1 0.1666666666666666\n",
      "1 0.4444444444444445\n",
      "1 0.5\n",
      "1 0.2857142857142857\n",
      "1 0.375\n",
      "[0]\n",
      "0 0.0\n",
      "0 0.0\n",
      "0 0.0\n",
      "0 0.0\n",
      "0 0.0\n",
      "[0]\n",
      "0 0.0\n",
      "0 0.0\n",
      "0 0.0\n",
      "0 0.0\n",
      "[1]\n",
      "0 0.0\n",
      "0 0.0\n",
      "0 0.0\n",
      "0 0.0\n",
      "0 0.0\n",
      "[1]\n",
      "0 0.0\n",
      "0 0.0\n",
      "[1]\n",
      "0 0.0\n",
      "0 0.0\n",
      "0 0.0\n",
      "[X1 < 6.642]\n",
      "[X1 < 2.771]\n",
      "[0]\n",
      "[X1 < 2.771]\n",
      "[0]\n",
      "[0]\n",
      "[X1 < 7.498]\n",
      "[X1 < 7.445]\n",
      "[1]\n",
      "[1]\n",
      "[X1 < 7.498]\n",
      "[1]\n",
      "[1]\n"
     ]
    }
   ],
   "source": [
    "def print_tree(node, depth = 0):\n",
    "    if isinstance(node, dict):\n",
    "        print(\"%s[X%d < %.3f]\"%((depth*'', (node['index']+1), node['value'])) )\n",
    "        print_tree(node['left'])\n",
    "        print_tree(node['right'])\n",
    "    else:\n",
    "        print(\"%s[%s]\"%((depth*' ', node)))\n",
    "dataset = [[2.771244718,1.784783929,0],\n",
    "\t[1.728571309,1.169761413,0],\n",
    "\t[3.678319846,2.81281357,0],\n",
    "\t[3.961043357,2.61995032,0],\n",
    "\t[2.999208922,2.209014212,0],\n",
    "\t[7.497545867,3.162953546,1],\n",
    "\t[9.00220326,3.339047188,1],\n",
    "\t[7.444542326,0.476683375,1],\n",
    "\t[10.12493903,3.234550982,1],\n",
    "\t[6.642287351,3.319983761,1]]\n",
    "tree = build_tree(dataset, 3, 1)\n",
    "print_tree(tree)"
   ]
  },
  {
   "cell_type": "markdown",
   "metadata": {},
   "source": [
    "Below Function is used to predict the values from the given tree and row which we want to predict.\n"
   ]
  },
  {
   "cell_type": "code",
   "execution_count": 13,
   "metadata": {
    "scrolled": true
   },
   "outputs": [
    {
     "name": "stdout",
     "output_type": "stream",
     "text": [
      "Expected = 0, Got = 0\n",
      "Expected = 0, Got = 0\n",
      "Expected = 0, Got = 0\n",
      "Expected = 0, Got = 0\n",
      "Expected = 0, Got = 0\n",
      "Expected = 1, Got = 1\n",
      "Expected = 1, Got = 1\n",
      "Expected = 1, Got = 1\n",
      "Expected = 1, Got = 1\n",
      "Expected = 1, Got = 1\n"
     ]
    }
   ],
   "source": [
    "def predict(node, row):\n",
    "    if row[node['index']] < node['value']:\n",
    "        if isinstance(node['left'], dict):\n",
    "            return predict(node['left'], row)\n",
    "        else:\n",
    "            return node['left']\n",
    "    else:\n",
    "        if isinstance(node['right'], dict):\n",
    "            return predict(node['right'], row)\n",
    "        else:\n",
    "            return node['right']\n",
    "    \n",
    "stump = {'index': 0, 'right': 1, 'value': 6.642287351, 'left': 0}\n",
    "for row in dataset:\n",
    "    prediction = predict(stump, row)\n",
    "    print('Expected = %d, Got = %d'% (row[-1], prediction))"
   ]
  },
  {
   "cell_type": "code",
   "execution_count": 26,
   "metadata": {},
   "outputs": [
    {
     "name": "stdout",
     "output_type": "stream",
     "text": [
      "vvt\n"
     ]
    }
   ],
   "source": [
    "#Load the CSV file\n",
    "from random import seed\n",
    "from random import randrange\n",
    "from csv import reader\n",
    "\n",
    "def load_csv(file_name):\n",
    "    file = open(file_name, 'rt')\n",
    "    lines = reader(file)\n",
    "    dataset = list(lines)\n",
    "    return dataset\n",
    "print('vvt')"
   ]
  },
  {
   "cell_type": "code",
   "execution_count": 28,
   "metadata": {},
   "outputs": [],
   "source": [
    "#Covert string values in column to float\n",
    "def str_column_to_float(dataset, column):\n",
    "    for row in dataset:\n",
    "        row[column] = float(row[column].strip())"
   ]
  },
  {
   "cell_type": "code",
   "execution_count": 36,
   "metadata": {},
   "outputs": [],
   "source": [
    "def cross_validation_split(dataset, n_folds):\n",
    "    dataset_split = list()\n",
    "    dataset_copy = list(dataset)\n",
    "    fold_size = int (len(dataset)/ n_folds)\n",
    "    for i in range(n_folds):\n",
    "        fold = list()\n",
    "        while len(fold)<fold_size:\n",
    "            index = randrange(len(dataset_copy))\n",
    "            fold.append(dataset_copy.pop(index))\n",
    "        dataset_split.append(fold)\n",
    "    return dataset_split"
   ]
  },
  {
   "cell_type": "code",
   "execution_count": 54,
   "metadata": {},
   "outputs": [],
   "source": [
    "def accuracy_metric(actual, predicted):\n",
    "    correct = 0\n",
    "    for i in range(len(actual)):\n",
    "        if actual[i] == predicted[i]:\n",
    "            correct += 1\n",
    "    return correct / float(len(actual))*100.0\n",
    "              "
   ]
  },
  {
   "cell_type": "code",
   "execution_count": 55,
   "metadata": {},
   "outputs": [],
   "source": [
    "def evaluate_algorithm(dataset, algorithm, n_folds, *args):\n",
    "    folds = cross_validation_split(dataset, n_folds)\n",
    "    scores = list()\n",
    "    for fold in folds:\n",
    "        train_set = list(folds)\n",
    "        train_set.remove(fold)\n",
    "        train_set = sum(train_set, [])\n",
    "        test_set = list(fold)\n",
    "        for row in fold:\n",
    "            row_copy = list(row)\n",
    "            test_set.append(row_copy)\n",
    "            row_copy[-1] = None\n",
    "        predicted = algorithm(train_set, test_set, *args)\n",
    "        actual = [row[-1] for row in fold]\n",
    "        accuracy = accuracy_metric(actual, predicted)\n",
    "        scores.append(accuracy)\n",
    "    return scores\n"
   ]
  },
  {
   "cell_type": "code",
   "execution_count": 57,
   "metadata": {
    "scrolled": true
   },
   "outputs": [
    {
     "name": "stdout",
     "output_type": "stream",
     "text": [
      "accuracy for every fold: [92.7007299270073, 92.33576642335767, 92.7007299270073, 91.97080291970804, 95.25547445255475]\n"
     ]
    }
   ],
   "source": [
    "# Classification and regression tree algortihm\n",
    "def decision_tree(train, test, max_depth, min_size):\n",
    "    tree = build_tree(train, max_depth, min_size)\n",
    "    predictions = list()\n",
    "    for row in test:\n",
    "        prediction = predict(tree, row)\n",
    "        predictions.append(prediction)\n",
    "    return (predictions)\n",
    "\n",
    "seed(1)\n",
    "file_name = \"bank_note.csv\"\n",
    "dataset = load_csv(file_name)\n",
    "dataset = dataset[1:]\n",
    "for i in range(len(dataset[0])):\n",
    "    str_column_to_float(dataset, i)\n",
    "n_folds = 5\n",
    "max_depth = 5\n",
    "min_size = 10\n",
    "\n",
    "scores = evaluate_algorithm(dataset, decision_tree, n_folds, max_depth, min_size)\n",
    "print('accuracy for every fold:',scores)"
   ]
  }
 ],
 "metadata": {
  "kernelspec": {
   "display_name": "Python 3",
   "language": "python",
   "name": "python3"
  },
  "language_info": {
   "codemirror_mode": {
    "name": "ipython",
    "version": 3
   },
   "file_extension": ".py",
   "mimetype": "text/x-python",
   "name": "python",
   "nbconvert_exporter": "python",
   "pygments_lexer": "ipython3",
   "version": "3.6.5"
  }
 },
 "nbformat": 4,
 "nbformat_minor": 2
}
